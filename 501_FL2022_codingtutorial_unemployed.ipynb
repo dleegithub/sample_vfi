{
  "nbformat": 4,
  "nbformat_minor": 0,
  "metadata": {
    "colab": {
      "provenance": [],
      "collapsed_sections": [],
      "authorship_tag": "ABX9TyNBjK2IPTWfWntNG0wdC4rE",
      "include_colab_link": true
    },
    "kernelspec": {
      "name": "python3",
      "display_name": "Python 3"
    },
    "language_info": {
      "name": "python"
    }
  },
  "cells": [
    {
      "cell_type": "markdown",
      "metadata": {
        "id": "view-in-github",
        "colab_type": "text"
      },
      "source": [
        "<a href=\"https://colab.research.google.com/github/dleegithub/sample_vfi/blob/main/501_FL2022_codingtutorial_unemployed.ipynb\" target=\"_parent\"><img src=\"https://colab.research.google.com/assets/colab-badge.svg\" alt=\"Open In Colab\"/></a>"
      ]
    },
    {
      "cell_type": "markdown",
      "source": [
        "Unemployed worker's problem\n",
        "(sample code for the distributed problem set, FL2022 501b) "
      ],
      "metadata": {
        "id": "MYoZHiBg3qHK"
      }
    },
    {
      "cell_type": "code",
      "execution_count": null,
      "metadata": {
        "id": "WN-esdfu3nCA"
      },
      "outputs": [],
      "source": [
        "# Import libraries\n",
        "\n",
        "import numpy as np\n",
        "# import matplotlib.pyplot as plt\n",
        "import timeit"
      ]
    },
    {
      "cell_type": "code",
      "source": [
        "# Speificy parameter values\n",
        "beta = 0.9\n",
        "gamma = 0.0\n",
        "b0 = 0.5 #employment benefit\n",
        "b1 = 0.8\n"
      ],
      "metadata": {
        "id": "9uMWLrSd36-v"
      },
      "execution_count": null,
      "outputs": []
    },
    {
      "cell_type": "code",
      "source": [
        "### Exogenous Wage Distribution\n",
        "n = 3_000\n",
        "w_min, w_max = 1, 2\n",
        "delta = 0.2\n",
        "\n",
        "q_default = np.ones(n+1,dtype=float) / (n+1)      # Uniform distribution  \n",
        "\n",
        "w_default = np.linspace(w_min, w_max, n+1)\n",
        "w_MPS = np.linspace(w_min-delta, w_max+delta, n+1)"
      ],
      "metadata": {
        "id": "F9QPKPqi5PFw"
      },
      "execution_count": null,
      "outputs": []
    },
    {
      "cell_type": "code",
      "source": [
        "### Utility Functions\n",
        "def u(x):\n",
        "    # return x\n",
        "    return (x**(1-gamma) - 1.0)/(1-gamma) \n",
        "\n",
        "def u_inv(y): # Inverse of utility\n",
        "    # return y\n",
        "    return (y*(1-gamma) + 1)**(1/(1-gamma)) "
      ],
      "metadata": {
        "id": "LSGRgwsl6GGM"
      },
      "execution_count": null,
      "outputs": []
    },
    {
      "cell_type": "code",
      "source": [
        "### State-action values\n",
        "def state_action_values(i, v, w=w_default, q=q_default, b=b0):\n",
        "    # Evaluate value for each state-action pair for i_th grid of wage, given value function v\n",
        "    # action is either accept or reject the current offer\n",
        "    Expect = np.sum(v * q)\n",
        "    accept = u(w[i]) / (1 - beta) \n",
        "    reject = u(b) + beta * Expect\n",
        "\n",
        "    return np.array([accept, reject])"
      ],
      "metadata": {
        "id": "lagdxHY94ktn"
      },
      "execution_count": null,
      "outputs": []
    },
    {
      "cell_type": "code",
      "source": [
        "def compute_reservation_wage(\n",
        "                             w=w_default,\n",
        "                             q=q_default,\n",
        "                             b=b0,\n",
        "                             max_iter=500,\n",
        "                             tol=1e-6):\n",
        "  \n",
        "    n = len(w)\n",
        "    v = u(w) / (1 - beta)        # initial guess\n",
        "    v_next = np.empty_like(v)\n",
        "    i = 0\n",
        "    error = tol + 1\n",
        "    while i < max_iter and error > tol:\n",
        "\n",
        "        for iw in range(n):\n",
        "            v_next[iw] = np.max(state_action_values(iw, v, w=w, q=q, b=b))\n",
        "\n",
        "        error = np.max(np.abs(v_next - v))\n",
        "        i += 1\n",
        "\n",
        "        v[:] = v_next  # copy contents into v\n",
        "\n",
        "    # reservation wage\n",
        "    expect = np.sum(v * q)\n",
        "    what = u_inv((1-beta) * (u(b) + beta * expect) )\n",
        "    return what"
      ],
      "metadata": {
        "id": "S7uDaGCH7JiD"
      },
      "execution_count": null,
      "outputs": []
    },
    {
      "cell_type": "code",
      "source": [
        "print(\"Reservation wage is {:.3f} when benefit is {:.1f}\".format(compute_reservation_wage(b=b0), b0))"
      ],
      "metadata": {
        "colab": {
          "base_uri": "https://localhost:8080/"
        },
        "id": "2M8pYdiK8R-9",
        "outputId": "ffcdb215-b3ca-4caf-950d-125df5a69eb8"
      },
      "execution_count": null,
      "outputs": [
        {
          "output_type": "stream",
          "name": "stdout",
          "text": [
            "Reservation wage is 1.523 when benefit is 0.5\n"
          ]
        }
      ]
    },
    {
      "cell_type": "code",
      "source": [
        "print(\"Reservation wage is {:.3f} when benefit is {:.1f}\".format(compute_reservation_wage(b=b1), b1))"
      ],
      "metadata": {
        "colab": {
          "base_uri": "https://localhost:8080/"
        },
        "id": "2unTdko-_wI2",
        "outputId": "1a58ec6e-42ae-451b-ccb3-8a7571e2cfc5"
      },
      "execution_count": null,
      "outputs": [
        {
          "output_type": "stream",
          "name": "stdout",
          "text": [
            "Reservation wage is 1.583 when benefit is 0.8\n"
          ]
        }
      ]
    },
    {
      "cell_type": "code",
      "source": [
        "print(\"Reservation wage is {:.3f} after an MPS in the wage distribution\".format(compute_reservation_wage(b=b0, w=w_MPS)))"
      ],
      "metadata": {
        "colab": {
          "base_uri": "https://localhost:8080/"
        },
        "id": "4gKb6HrVBKCc",
        "outputId": "af8d30de-3ba9-41a0-decf-a0a89835378f"
      },
      "execution_count": null,
      "outputs": [
        {
          "output_type": "stream",
          "name": "stdout",
          "text": [
            "Reservation wage is 1.612 after an MPS in the wage distribution\n"
          ]
        }
      ]
    },
    {
      "cell_type": "code",
      "source": [
        "# %%timeit -r 3 -n 100\n",
        "# result = compute_reservation_wage(b=b0)"
      ],
      "metadata": {
        "id": "kYiIbPdBi_hG"
      },
      "execution_count": null,
      "outputs": []
    },
    {
      "cell_type": "markdown",
      "source": [
        "Business Cycle"
      ],
      "metadata": {
        "id": "TUHBF4hGB9Ql"
      }
    },
    {
      "cell_type": "code",
      "source": [
        "pbr = 0.2\n",
        "prb = 0.2\n",
        "Gamma_default = np.array([[1-pbr, pbr],[prb, 1-prb]])#state 0: boom, state1: recession\n",
        "Gamma_eq = np.tile([0.5]*2, (2,1))\n"
      ],
      "metadata": {
        "id": "T7n1oxyCD4c9"
      },
      "execution_count": null,
      "outputs": []
    },
    {
      "cell_type": "code",
      "source": [
        "Gamma_default"
      ],
      "metadata": {
        "colab": {
          "base_uri": "https://localhost:8080/"
        },
        "id": "Ocsp9JKUWWL9",
        "outputId": "246c0f5e-cab1-49e7-a066-8d3e596bf699"
      },
      "execution_count": null,
      "outputs": [
        {
          "output_type": "execute_result",
          "data": {
            "text/plain": [
              "array([[0.8, 0.2],\n",
              "       [0.2, 0.8]])"
            ]
          },
          "metadata": {},
          "execution_count": 12
        }
      ]
    },
    {
      "cell_type": "code",
      "source": [
        "def state_action_values_cycle(iw, v, Gamma, w, q, b):\n",
        "    # Evaluate value for each state-action pair for iw_th grid of wage, at each state s, given value function v\n",
        "    # action is either accept or reject the current offer\n",
        "    n_s = Gamma.shape[0]\n",
        "    Expect = np.zeros(n_s,dtype=float)\n",
        "    for s in range(n_s):\n",
        "      Expect[s] = np.sum( v[s] * q[s] )\n",
        "    accept = np.tile( u(w[iw]) / (1 - beta), (n_s,1))\n",
        "    reject = u(b) + beta *  np.matmul (Gamma ,np.reshape(Expect,(n_s,1))) \n",
        "    return np.concatenate((accept, reject), axis=1)"
      ],
      "metadata": {
        "id": "u9BfZOjpGuQx"
      },
      "execution_count": null,
      "outputs": []
    },
    {
      "cell_type": "code",
      "source": [
        "def compute_reservation_wage_cycle(\n",
        "                                  w=w_default,\n",
        "                                  Gamma = Gamma_default,\n",
        "                                  b=b0,\n",
        "                                  max_iter=500,\n",
        "                                  tol=1e-6):\n",
        "  \n",
        "    n = len(w)\n",
        "    n_s = Gamma.shape[0]\n",
        "\n",
        "\n",
        "    fb = np.reshape(2*(w-1),(1,n)) #density_boom\n",
        "    q_cycle = np.concatenate((fb / np.sum(fb), 1 / n * np.ones((1,n),dtype=float)), axis=0)\n",
        "\n",
        "    q = q_cycle\n",
        "\n",
        "    v = np.tile(u(w) / (1 - beta) , (n_s,1))      # initial guess, v is now (n_s * n_w)\n",
        "    v_next = np.empty_like(v)\n",
        "    i = 0\n",
        "    error = tol + 1\n",
        "    while i < max_iter and error > tol:\n",
        "\n",
        "        for iw in range(n):\n",
        "          v_next[:,iw] = np.max(state_action_values_cycle(iw, v, Gamma=Gamma, w=w, q=q, b=b), axis=1)\n",
        "\n",
        "        error = np.max(np.abs(v_next - v))\n",
        "        i += 1\n",
        "\n",
        "        v[:] = v_next  # copy contents into v\n",
        "\n",
        "    # reservation wage\n",
        "    expect = np.zeros(n_s,dtype=float)\n",
        "    for s in range(n_s):\n",
        "      expect[s] = np.sum( v[s] * q[s] )\n",
        "\n",
        "    what = u_inv( (1-beta)  * (u(b) + beta *  np.matmul (Gamma ,np.reshape(expect,(n_s,1))) ) ) # reservation wage using formula\n",
        "    \n",
        "    # policy = np.tile(u(w) / (1 - beta) , (n_s,1)) >= u(b) + beta * np.matmul (Gamma ,np.reshape(expect,(n_s,1))) # reservation wage using policy function\n",
        "    # what = w[np.argmax(policy, axis=1)]\n",
        "    return what.squeeze()\n"
      ],
      "metadata": {
        "id": "aAbQxvr4DAEl"
      },
      "execution_count": null,
      "outputs": []
    },
    {
      "cell_type": "code",
      "source": [
        "what0 = compute_reservation_wage_cycle()\n",
        "what1 = compute_reservation_wage_cycle(Gamma=Gamma_eq)"
      ],
      "metadata": {
        "id": "xzrrgPPQNJoY"
      },
      "execution_count": null,
      "outputs": []
    },
    {
      "cell_type": "code",
      "source": [
        "print(\"Reservation wage is {:.3f} in boom, {:.3f} in recession\".format(*what0))\n",
        "print(\"Reservation wage is {:.3f} in boom, {:.3f} in recession under equal transition probabilities\".format(*what1))"
      ],
      "metadata": {
        "colab": {
          "base_uri": "https://localhost:8080/"
        },
        "id": "QACao8wqbc-S",
        "outputId": "0ae2bf5f-9de8-442f-b59f-1c9bc26513ea"
      },
      "execution_count": null,
      "outputs": [
        {
          "output_type": "stream",
          "name": "stdout",
          "text": [
            "Reservation wage is 1.599 in boom, 1.553 in recession\n",
            "Reservation wage is 1.580 in boom, 1.580 in recession under equal transition probabilities\n"
          ]
        }
      ]
    }
  ]
}